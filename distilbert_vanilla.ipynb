{
 "cells": [
  {
   "cell_type": "code",
   "execution_count": 66,
   "id": "1b8212be-f0a5-41ea-b387-d9160328effd",
   "metadata": {},
   "outputs": [],
   "source": [
    "import torch\n",
    "from torch.utils.data import TensorDataset, DataLoader, RandomSampler, SequentialSampler\n",
    "from sklearn.model_selection import train_test_split\n",
    "from transformers import DistilBertTokenizer,DistilBertForSequenceClassification\n",
    "from transformers import RobertaTokenizer,RobertaForSequenceClassification\n",
    "from tqdm import tqdm, trange\n",
    "import pandas as pd\n",
    "import io\n",
    "import torch.nn as nn\n",
    "from transformers import AdamW\n",
    "from sklearn.model_selection import train_test_split\n",
    "import numpy as np\n",
    "import matplotlib.pyplot as plt\n",
    "import numpy as np"
   ]
  },
  {
   "cell_type": "code",
   "execution_count": 2,
   "id": "bd1e0735-b709-4354-be90-141ec56cfb82",
   "metadata": {},
   "outputs": [],
   "source": [
    "\n",
    "\n",
    "df_stack = pd.read_csv('stack-exchange.annotated.csv')\n",
    "df_wiki = pd.read_csv('wikipedia.annotated.csv')\n",
    "\n",
    "columns = ['Request','Score1', 'Score2', 'Score3', 'Score4','Score5','Normalized Score']\n",
    "df_final = df_wiki.append(df_stack)\n",
    "df_final.drop(['Community','Id','TurkId1', 'TurkId2', 'TurkId3', 'TurkId4', 'TurkId5'],axis=1,inplace=True)\n",
    "def remove_url(request):\n",
    "    try:\n",
    "        request = request.replace('<url>','')\n",
    "        request = \"\".join([i for i in request if i not in string.punctuation])   \n",
    "        request = re.sub(r'^https?:\\/\\/.*[\\r\\n]*', '', request)\n",
    "        request = re.sub(r'^http.*[\\r\\n]*', '', request)\n",
    "        request = re.sub(\" \\d+\", \" \", request)\n",
    "    except:\n",
    "        pass\n",
    "    return request\n",
    "\n",
    "df_final.loc[:,'Request'] = df_final.Request.apply(lambda x: remove_url(x))\n",
    "\n",
    "#Randomly shuffle the data\n",
    "# df_final = df_final.sample(frac=1)\n",
    "conditions = [(df_final['Normalized Score']<-0.5),(-0.5<=df_final['Normalized Score']) & (df_final['Normalized Score']<=0.5), (df_final['Normalized Score']>0.5)]\n",
    "values = [0,1,2]\n",
    "df_final['label_1'] = np.select(conditions,values)\n",
    "\n",
    "sentences = df_final.Request.values\n",
    "labels = df_final.label_1.values\n",
    "\n",
    "tokenizer = DistilBertTokenizer.from_pretrained('distilbert-base-uncased')\n",
    "\n",
    "train_inputs, temp_val_inputs,train_labels,temp_val_labels = train_test_split(sentences,labels, \n",
    "                                            random_state=42, test_size=0.2,stratify=labels)\n",
    "val_inputs,test_inputs,val_labels,test_labels = train_test_split(temp_val_inputs,temp_val_labels,\n",
    "                                             random_state=42, test_size=0.1,stratify=temp_val_labels)\n",
    "\n",
    "tokens_train = tokenizer(\n",
    "    train_inputs.tolist(),\n",
    "    padding = True , truncation=True,return_tensors='pt',\n",
    "    add_special_tokens=False\n",
    ")\n",
    "\n",
    "tokens_val = tokenizer(\n",
    "    val_inputs.tolist(),\n",
    "    padding=True, truncation=True,return_tensors='pt',\n",
    "    add_special_tokens=False\n",
    ")\n",
    "\n",
    "tokens_test = tokenizer(\n",
    "    test_inputs.tolist(),\n",
    "    padding =True,\n",
    "    truncation=True,return_tensors='pt',\n",
    "    add_special_tokens=False\n",
    ")"
   ]
  },
  {
   "cell_type": "code",
   "execution_count": 4,
   "id": "d407b640-e142-44a1-ad74-6c426424c939",
   "metadata": {},
   "outputs": [
    {
     "name": "stderr",
     "output_type": "stream",
     "text": [
      "Some weights of the model checkpoint at distilbert-base-uncased were not used when initializing DistilBertForSequenceClassification: ['vocab_projector.bias', 'vocab_layer_norm.bias', 'vocab_projector.weight', 'vocab_transform.weight', 'vocab_layer_norm.weight', 'vocab_transform.bias']\n",
      "- This IS expected if you are initializing DistilBertForSequenceClassification from the checkpoint of a model trained on another task or with another architecture (e.g. initializing a BertForSequenceClassification model from a BertForPreTraining model).\n",
      "- This IS NOT expected if you are initializing DistilBertForSequenceClassification from the checkpoint of a model that you expect to be exactly identical (initializing a BertForSequenceClassification model from a BertForSequenceClassification model).\n",
      "Some weights of DistilBertForSequenceClassification were not initialized from the model checkpoint at distilbert-base-uncased and are newly initialized: ['classifier.weight', 'pre_classifier.weight', 'pre_classifier.bias', 'classifier.bias']\n",
      "You should probably TRAIN this model on a down-stream task to be able to use it for predictions and inference.\n"
     ]
    }
   ],
   "source": [
    "tokenizer = DistilBertTokenizer.from_pretrained('distilbert-base-uncased')\n",
    "model = DistilBertForSequenceClassification.from_pretrained('distilbert-base-uncased',num_labels=3)"
   ]
  },
  {
   "cell_type": "code",
   "execution_count": 5,
   "id": "a3cc2848-6f5e-4a51-8f7a-75a3d8926df0",
   "metadata": {},
   "outputs": [],
   "source": [
    "batch_size = 8\n",
    "\n",
    "train_ids = tokens_train['input_ids']\n",
    "train_mask = tokens_train['attention_mask']\n",
    "train_y = torch.tensor(train_labels.tolist())\n",
    "\n",
    "val_ids = tokens_val['input_ids']\n",
    "val_mask = tokens_val['attention_mask']\n",
    "val_y = torch.tensor(val_labels.tolist())\n",
    "\n",
    "test_ids = tokens_test['input_ids']\n",
    "test_mask = tokens_test['attention_mask']\n",
    "test_y = torch.tensor(test_labels.tolist())\n",
    "\n",
    "train_data = TensorDataset(train_ids, train_mask, train_y)\n",
    "train_sampler = RandomSampler(train_data)\n",
    "train_dataloader = DataLoader(train_data, sampler=train_sampler, batch_size=batch_size)\n",
    "\n",
    "validation_data = TensorDataset(val_ids, val_mask, val_y)\n",
    "validation_sampler = SequentialSampler(validation_data)\n",
    "validation_dataloader = DataLoader(validation_data, sampler=validation_sampler, batch_size=batch_size)"
   ]
  },
  {
   "cell_type": "code",
   "execution_count": 6,
   "id": "f7f1e3c7-e676-4d7b-93af-85113f531588",
   "metadata": {},
   "outputs": [],
   "source": [
    "from transformers import AdamW\n",
    "\n",
    "optimizer = AdamW(model.parameters(), lr=5e-5)"
   ]
  },
  {
   "cell_type": "code",
   "execution_count": 7,
   "id": "d6b49d64-5faa-4e66-a263-c94f623eed53",
   "metadata": {},
   "outputs": [],
   "source": [
    "from transformers import get_scheduler\n",
    "\n",
    "num_epochs = 3\n",
    "num_training_steps = num_epochs * len(train_dataloader)\n",
    "lr_scheduler = get_scheduler(\n",
    "                \"linear\",optimizer=optimizer,num_warmup_steps=0,\n",
    "                num_training_steps=num_training_steps\n",
    ")"
   ]
  },
  {
   "cell_type": "code",
   "execution_count": 8,
   "id": "1fea21f4-fc01-4ab0-8cf7-1c6d01611e0f",
   "metadata": {},
   "outputs": [
    {
     "data": {
      "text/plain": [
       "DistilBertForSequenceClassification(\n",
       "  (distilbert): DistilBertModel(\n",
       "    (embeddings): Embeddings(\n",
       "      (word_embeddings): Embedding(30522, 768, padding_idx=0)\n",
       "      (position_embeddings): Embedding(512, 768)\n",
       "      (LayerNorm): LayerNorm((768,), eps=1e-12, elementwise_affine=True)\n",
       "      (dropout): Dropout(p=0.1, inplace=False)\n",
       "    )\n",
       "    (transformer): Transformer(\n",
       "      (layer): ModuleList(\n",
       "        (0): TransformerBlock(\n",
       "          (attention): MultiHeadSelfAttention(\n",
       "            (dropout): Dropout(p=0.1, inplace=False)\n",
       "            (q_lin): Linear(in_features=768, out_features=768, bias=True)\n",
       "            (k_lin): Linear(in_features=768, out_features=768, bias=True)\n",
       "            (v_lin): Linear(in_features=768, out_features=768, bias=True)\n",
       "            (out_lin): Linear(in_features=768, out_features=768, bias=True)\n",
       "          )\n",
       "          (sa_layer_norm): LayerNorm((768,), eps=1e-12, elementwise_affine=True)\n",
       "          (ffn): FFN(\n",
       "            (dropout): Dropout(p=0.1, inplace=False)\n",
       "            (lin1): Linear(in_features=768, out_features=3072, bias=True)\n",
       "            (lin2): Linear(in_features=3072, out_features=768, bias=True)\n",
       "          )\n",
       "          (output_layer_norm): LayerNorm((768,), eps=1e-12, elementwise_affine=True)\n",
       "        )\n",
       "        (1): TransformerBlock(\n",
       "          (attention): MultiHeadSelfAttention(\n",
       "            (dropout): Dropout(p=0.1, inplace=False)\n",
       "            (q_lin): Linear(in_features=768, out_features=768, bias=True)\n",
       "            (k_lin): Linear(in_features=768, out_features=768, bias=True)\n",
       "            (v_lin): Linear(in_features=768, out_features=768, bias=True)\n",
       "            (out_lin): Linear(in_features=768, out_features=768, bias=True)\n",
       "          )\n",
       "          (sa_layer_norm): LayerNorm((768,), eps=1e-12, elementwise_affine=True)\n",
       "          (ffn): FFN(\n",
       "            (dropout): Dropout(p=0.1, inplace=False)\n",
       "            (lin1): Linear(in_features=768, out_features=3072, bias=True)\n",
       "            (lin2): Linear(in_features=3072, out_features=768, bias=True)\n",
       "          )\n",
       "          (output_layer_norm): LayerNorm((768,), eps=1e-12, elementwise_affine=True)\n",
       "        )\n",
       "        (2): TransformerBlock(\n",
       "          (attention): MultiHeadSelfAttention(\n",
       "            (dropout): Dropout(p=0.1, inplace=False)\n",
       "            (q_lin): Linear(in_features=768, out_features=768, bias=True)\n",
       "            (k_lin): Linear(in_features=768, out_features=768, bias=True)\n",
       "            (v_lin): Linear(in_features=768, out_features=768, bias=True)\n",
       "            (out_lin): Linear(in_features=768, out_features=768, bias=True)\n",
       "          )\n",
       "          (sa_layer_norm): LayerNorm((768,), eps=1e-12, elementwise_affine=True)\n",
       "          (ffn): FFN(\n",
       "            (dropout): Dropout(p=0.1, inplace=False)\n",
       "            (lin1): Linear(in_features=768, out_features=3072, bias=True)\n",
       "            (lin2): Linear(in_features=3072, out_features=768, bias=True)\n",
       "          )\n",
       "          (output_layer_norm): LayerNorm((768,), eps=1e-12, elementwise_affine=True)\n",
       "        )\n",
       "        (3): TransformerBlock(\n",
       "          (attention): MultiHeadSelfAttention(\n",
       "            (dropout): Dropout(p=0.1, inplace=False)\n",
       "            (q_lin): Linear(in_features=768, out_features=768, bias=True)\n",
       "            (k_lin): Linear(in_features=768, out_features=768, bias=True)\n",
       "            (v_lin): Linear(in_features=768, out_features=768, bias=True)\n",
       "            (out_lin): Linear(in_features=768, out_features=768, bias=True)\n",
       "          )\n",
       "          (sa_layer_norm): LayerNorm((768,), eps=1e-12, elementwise_affine=True)\n",
       "          (ffn): FFN(\n",
       "            (dropout): Dropout(p=0.1, inplace=False)\n",
       "            (lin1): Linear(in_features=768, out_features=3072, bias=True)\n",
       "            (lin2): Linear(in_features=3072, out_features=768, bias=True)\n",
       "          )\n",
       "          (output_layer_norm): LayerNorm((768,), eps=1e-12, elementwise_affine=True)\n",
       "        )\n",
       "        (4): TransformerBlock(\n",
       "          (attention): MultiHeadSelfAttention(\n",
       "            (dropout): Dropout(p=0.1, inplace=False)\n",
       "            (q_lin): Linear(in_features=768, out_features=768, bias=True)\n",
       "            (k_lin): Linear(in_features=768, out_features=768, bias=True)\n",
       "            (v_lin): Linear(in_features=768, out_features=768, bias=True)\n",
       "            (out_lin): Linear(in_features=768, out_features=768, bias=True)\n",
       "          )\n",
       "          (sa_layer_norm): LayerNorm((768,), eps=1e-12, elementwise_affine=True)\n",
       "          (ffn): FFN(\n",
       "            (dropout): Dropout(p=0.1, inplace=False)\n",
       "            (lin1): Linear(in_features=768, out_features=3072, bias=True)\n",
       "            (lin2): Linear(in_features=3072, out_features=768, bias=True)\n",
       "          )\n",
       "          (output_layer_norm): LayerNorm((768,), eps=1e-12, elementwise_affine=True)\n",
       "        )\n",
       "        (5): TransformerBlock(\n",
       "          (attention): MultiHeadSelfAttention(\n",
       "            (dropout): Dropout(p=0.1, inplace=False)\n",
       "            (q_lin): Linear(in_features=768, out_features=768, bias=True)\n",
       "            (k_lin): Linear(in_features=768, out_features=768, bias=True)\n",
       "            (v_lin): Linear(in_features=768, out_features=768, bias=True)\n",
       "            (out_lin): Linear(in_features=768, out_features=768, bias=True)\n",
       "          )\n",
       "          (sa_layer_norm): LayerNorm((768,), eps=1e-12, elementwise_affine=True)\n",
       "          (ffn): FFN(\n",
       "            (dropout): Dropout(p=0.1, inplace=False)\n",
       "            (lin1): Linear(in_features=768, out_features=3072, bias=True)\n",
       "            (lin2): Linear(in_features=3072, out_features=768, bias=True)\n",
       "          )\n",
       "          (output_layer_norm): LayerNorm((768,), eps=1e-12, elementwise_affine=True)\n",
       "        )\n",
       "      )\n",
       "    )\n",
       "  )\n",
       "  (pre_classifier): Linear(in_features=768, out_features=768, bias=True)\n",
       "  (classifier): Linear(in_features=768, out_features=3, bias=True)\n",
       "  (dropout): Dropout(p=0.2, inplace=False)\n",
       ")"
      ]
     },
     "execution_count": 8,
     "metadata": {},
     "output_type": "execute_result"
    }
   ],
   "source": [
    "device = torch.device('cuda' if torch.cuda.is_available() else 'cpu')\n",
    "model.to(device)"
   ]
  },
  {
   "cell_type": "code",
   "execution_count": 9,
   "id": "57b4df5c-b934-45ee-96b8-70d96c050ace",
   "metadata": {},
   "outputs": [
    {
     "data": {
      "application/vnd.jupyter.widget-view+json": {
       "model_id": "d40a9a8d054e47508045498af2cef193",
       "version_major": 2,
       "version_minor": 0
      },
      "text/plain": [
       "  0%|          | 0/3288 [00:00<?, ?it/s]"
      ]
     },
     "metadata": {},
     "output_type": "display_data"
    }
   ],
   "source": [
    "from tqdm.auto import tqdm\n",
    "\n",
    "progress_bar = tqdm(range(num_training_steps))\n",
    "model.train()\n",
    "for num_epoch in range(num_epochs):\n",
    "    for step, batch in enumerate(train_dataloader):\n",
    "        batch = [r.to(device) for r in batch]\n",
    "        ids,masks,labels = batch\n",
    "        outputs = model(input_ids=ids,attention_mask=masks,labels=labels)\n",
    "        loss = outputs.loss\n",
    "        loss.backward()\n",
    "\n",
    "        optimizer.step()\n",
    "        lr_scheduler.step()\n",
    "        optimizer.zero_grad()\n",
    "        progress_bar.update(1)"
   ]
  },
  {
   "cell_type": "code",
   "execution_count": 10,
   "id": "b351dec1-5a51-4ca1-ae02-953d49664d9a",
   "metadata": {},
   "outputs": [],
   "source": [
    "torch.save(model.state_dict(), 'vanilla.pth')"
   ]
  },
  {
   "cell_type": "code",
   "execution_count": null,
   "id": "3ccb5629-75f4-41dd-a26d-d76b8efcc79b",
   "metadata": {},
   "outputs": [],
   "source": []
  },
  {
   "cell_type": "code",
   "execution_count": 17,
   "id": "0f423939-0b18-4bea-9360-fdbaddb7854d",
   "metadata": {},
   "outputs": [],
   "source": [
    "from datasets import load_metric\n",
    "predictions = []\n",
    "labels = []\n",
    "metric = load_metric('accuracy')\n",
    "model.eval()\n",
    "for step, batch in enumerate(validation_dataloader):\n",
    "    batch = [r.to(device) for r in batch]\n",
    "    ids,masks,label = batch\n",
    "    with torch.no_grad():\n",
    "        outputs = model(input_ids=ids,attention_mask=masks)\n",
    "    logits = outputs.logits\n",
    "    preds = torch.argmax(logits,dim=-1)\n",
    "    predictions.append(preds.cpu())\n",
    "    labels.append(label.cpu())\n",
    "    metric.add_batch(predictions=preds,references=label)"
   ]
  },
  {
   "cell_type": "code",
   "execution_count": 18,
   "id": "534a2687-dd77-40e8-8c86-fb3fdae5e6f8",
   "metadata": {},
   "outputs": [
    {
     "data": {
      "text/plain": [
       "{'accuracy': 0.6115618661257607}"
      ]
     },
     "execution_count": 18,
     "metadata": {},
     "output_type": "execute_result"
    }
   ],
   "source": [
    "metric.compute()"
   ]
  },
  {
   "cell_type": "code",
   "execution_count": 14,
   "id": "2e7269e6-ee57-4a71-96d7-45587056bd3f",
   "metadata": {},
   "outputs": [
    {
     "data": {
      "text/plain": [
       "1    6224\n",
       "2    2450\n",
       "0    2282\n",
       "Name: label_1, dtype: int64"
      ]
     },
     "execution_count": 14,
     "metadata": {},
     "output_type": "execute_result"
    }
   ],
   "source": [
    "df_final['label_1'].value_counts()"
   ]
  },
  {
   "cell_type": "code",
   "execution_count": 52,
   "id": "dde8ff4c-2ffe-4c7e-99a5-654b970b13ce",
   "metadata": {},
   "outputs": [],
   "source": [
    "from sklearn.metrics import ConfusionMatrixDisplay"
   ]
  },
  {
   "cell_type": "code",
   "execution_count": 42,
   "id": "da651c04-5212-4479-89b1-f82674a3f684",
   "metadata": {},
   "outputs": [],
   "source": [
    "list_preds = [int(pred) for prediction in predictions for pred in prediction]"
   ]
  },
  {
   "cell_type": "code",
   "execution_count": 67,
   "id": "f8e342a1-3daa-4119-b3d8-2fda58b73fa7",
   "metadata": {},
   "outputs": [],
   "source": [
    "list_labels = [int(lbl) for label in labels for lbl in label]"
   ]
  },
  {
   "cell_type": "code",
   "execution_count": 68,
   "id": "91d0ff69-1453-434e-8aee-345c3d58691f",
   "metadata": {},
   "outputs": [
    {
     "data": {
      "image/png": "[encoded data removed]",
      "text/plain": [
       "<Figure size 432x288 with 2 Axes>"
      ]
     },
     "metadata": {
      "needs_background": "light"
     },
     "output_type": "display_data"
    }
   ],
   "source": [
    "display_labels = [0,1,2]\n",
    "cm = confusion_matrix(list_labels,list_preds,labels=display_labels)\n",
    "disp = ConfusionMatrixDisplay(confusion_matrix=cm,\n",
    "                              display_labels=display_labels)\n",
    "disp = disp.plot()\n",
    "\n",
    "plt.show()"
   ]
  },
  {
   "cell_type": "code",
   "execution_count": 71,
   "id": "12e2a001-fa9b-4496-87d7-cc5dc25847d2",
   "metadata": {},
   "outputs": [],
   "source": [
    "from sklearn.metrics import roc_curve,auc"
   ]
  },
  {
   "cell_type": "code",
   "execution_count": 70,
   "id": "78196c72-f6d6-451f-8363-f82b00a1ec5f",
   "metadata": {},
   "outputs": [
    {
     "data": {
      "text/plain": [
       "(1972, 1)"
      ]
     },
     "execution_count": 70,
     "metadata": {},
     "output_type": "execute_result"
    }
   ],
   "source": [
    "np_preds = np.array(list_preds).reshape(-1,1)\n",
    "np_labels = np.array(list_labels).reshape(-1,1)\n",
    "np_preds.shape"
   ]
  },
  {
   "cell_type": "code",
   "execution_count": null,
   "id": "6785ed22-ba03-446e-ab88-51fa8885182d",
   "metadata": {},
   "outputs": [],
   "source": []
  }
 ],
 "metadata": {
  "kernelspec": {
   "display_name": "Python 3",
   "language": "python",
   "name": "python3"
  },
  "language_info": {
   "codemirror_mode": {
    "name": "ipython",
    "version": 3
   },
   "file_extension": ".py",
   "mimetype": "text/x-python",
   "name": "python",
   "nbconvert_exporter": "python",
   "pygments_lexer": "ipython3",
   "version": "3.6.9"
  }
 },
 "nbformat": 4,
 "nbformat_minor": 5
}
