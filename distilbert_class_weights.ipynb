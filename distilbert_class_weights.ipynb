{
 "cells": [
  {
   "cell_type": "code",
   "execution_count": 1,
   "id": "bd1e0735-b709-4354-be90-141ec56cfb82",
   "metadata": {},
   "outputs": [],
   "source": [
    "import torch\n",
    "from torch.utils.data import TensorDataset, DataLoader, RandomSampler, SequentialSampler\n",
    "from sklearn.model_selection import train_test_split\n",
    "from transformers import DistilBertTokenizer,DistilBertForSequenceClassification\n",
    "from transformers import RobertaTokenizer,RobertaForSequenceClassification\n",
    "from tqdm import tqdm, trange\n",
    "import pandas as pd\n",
    "import io\n",
    "import torch.nn as nn\n",
    "from transformers import AdamW\n",
    "from sklearn.model_selection import train_test_split\n",
    "import numpy as np\n",
    "import matplotlib.pyplot as plt\n",
    "import numpy as np\n",
    "from sklearn.utils.class_weight import compute_class_weight\n",
    "\n",
    "df_stack = pd.read_csv('stack-exchange.annotated.csv')\n",
    "df_wiki = pd.read_csv('wikipedia.annotated.csv')\n",
    "\n",
    "columns = ['Request','Score1', 'Score2', 'Score3', 'Score4','Score5','Normalized Score']\n",
    "df_final = df_wiki.append(df_stack)\n",
    "df_final.drop(['Community','Id','TurkId1', 'TurkId2', 'TurkId3', 'TurkId4', 'TurkId5'],axis=1,inplace=True)\n",
    "\n",
    "def preprocess_data(request):\n",
    "    try:\n",
    "        request = request.replace('<url>','')\n",
    "        request = \"\".join([i for i in request if i not in string.punctuation])   \n",
    "        request = re.sub(r'^https?:\\/\\/.*[\\r\\n]*', '', request)\n",
    "        request = re.sub(r'^http.*[\\r\\n]*', '', request)\n",
    "        request = re.sub(\" \\d+\", \" \", request)\n",
    "    except:\n",
    "        pass\n",
    "    return request\n",
    "\n",
    "df_final.loc[:,'Request'] = df_final.Request.apply(lambda x: preprocess_data(x))\n",
    "\n",
    "#Randomly shuffle the data\n",
    "# df_final = df_final.sample(frac=1)\n",
    "conditions = [(df_final['Normalized Score']<-0.5),(-0.5<=df_final['Normalized Score']) & (df_final['Normalized Score']<=0.5), (df_final['Normalized Score']>0.5)]\n",
    "values = [0,1,2]\n",
    "df_final['label_1'] = np.select(conditions,values)\n",
    "\n",
    "weights = compute_class_weight('balanced',classes=[0,1,2],y=df_final['label_1'])\n",
    "weight_tensor = torch.tensor(weights,dtype=torch.float32).to(device)\n",
    "\n",
    "sentences = df_final.Request.values\n",
    "labels = df_final.label_1.values\n",
    "\n",
    "tokenizer = DistilBertTokenizer.from_pretrained('distilbert-base-uncased')\n",
    "\n",
    "train_inputs, temp_val_inputs,train_labels,temp_val_labels = train_test_split(sentences,labels, \n",
    "                                            random_state=42, test_size=0.2,stratify=labels)\n",
    "val_inputs,test_inputs,val_labels,test_labels = train_test_split(temp_val_inputs,temp_val_labels,\n",
    "                                             random_state=42, test_size=0.1,stratify=temp_val_labels)\n",
    "\n",
    "tokens_train = tokenizer(\n",
    "    train_inputs.tolist(),\n",
    "    padding = True , truncation=True,return_tensors='pt',\n",
    "    add_special_tokens=False\n",
    ")\n",
    "\n",
    "tokens_val = tokenizer(\n",
    "    val_inputs.tolist(),\n",
    "    padding=True, truncation=True,return_tensors='pt',\n",
    "    add_special_tokens=False\n",
    ")\n",
    "\n",
    "tokens_test = tokenizer(\n",
    "    test_inputs.tolist(),\n",
    "    padding =True,\n",
    "    truncation=True,return_tensors='pt',\n",
    "    add_special_tokens=False\n",
    ")"
   ]
  },
  {
   "cell_type": "code",
   "execution_count": 3,
   "id": "d407b640-e142-44a1-ad74-6c426424c939",
   "metadata": {},
   "outputs": [
    {
     "name": "stderr",
     "output_type": "stream",
     "text": [
      "Some weights of the model checkpoint at distilbert-base-uncased were not used when initializing DistilBertForSequenceClassification: ['vocab_transform.bias', 'vocab_projector.weight', 'vocab_layer_norm.bias', 'vocab_layer_norm.weight', 'vocab_projector.bias', 'vocab_transform.weight']\n",
      "- This IS expected if you are initializing DistilBertForSequenceClassification from the checkpoint of a model trained on another task or with another architecture (e.g. initializing a BertForSequenceClassification model from a BertForPreTraining model).\n",
      "- This IS NOT expected if you are initializing DistilBertForSequenceClassification from the checkpoint of a model that you expect to be exactly identical (initializing a BertForSequenceClassification model from a BertForSequenceClassification model).\n",
      "Some weights of DistilBertForSequenceClassification were not initialized from the model checkpoint at distilbert-base-uncased and are newly initialized: ['classifier.weight', 'pre_classifier.weight', 'classifier.bias', 'pre_classifier.bias']\n",
      "You should probably TRAIN this model on a down-stream task to be able to use it for predictions and inference.\n"
     ]
    }
   ],
   "source": [
    "tokenizer = DistilBertTokenizer.from_pretrained('distilbert-base-uncased')\n",
    "model = DistilBertForSequenceClassification.from_pretrained('distilbert-base-uncased',num_labels=3)"
   ]
  },
  {
   "cell_type": "code",
   "execution_count": 4,
   "id": "a3cc2848-6f5e-4a51-8f7a-75a3d8926df0",
   "metadata": {},
   "outputs": [],
   "source": [
    "batch_size = 8\n",
    "\n",
    "train_ids = tokens_train['input_ids']\n",
    "train_mask = tokens_train['attention_mask']\n",
    "train_y = torch.tensor(train_labels.tolist())\n",
    "\n",
    "val_ids = tokens_val['input_ids']\n",
    "val_mask = tokens_val['attention_mask']\n",
    "val_y = torch.tensor(val_labels.tolist())\n",
    "\n",
    "test_ids = tokens_test['input_ids']\n",
    "test_mask = tokens_test['attention_mask']\n",
    "test_y = torch.tensor(test_labels.tolist())\n",
    "\n",
    "train_data = TensorDataset(train_ids, train_mask, train_y)\n",
    "train_sampler = RandomSampler(train_data)\n",
    "train_dataloader = DataLoader(train_data, sampler=train_sampler, batch_size=batch_size)\n",
    "\n",
    "validation_data = TensorDataset(val_ids, val_mask, val_y)\n",
    "validation_sampler = SequentialSampler(validation_data)\n",
    "validation_dataloader = DataLoader(validation_data, sampler=validation_sampler, batch_size=batch_size)"
   ]
  },
  {
   "cell_type": "code",
   "execution_count": 5,
   "id": "f7f1e3c7-e676-4d7b-93af-85113f531588",
   "metadata": {},
   "outputs": [],
   "source": [
    "from transformers import AdamW\n",
    "\n",
    "optimizer = AdamW(model.parameters(), lr=5e-5)"
   ]
  },
  {
   "cell_type": "code",
   "execution_count": 6,
   "id": "0a0a6510-038f-49fc-9ec3-a29a99a1ace0",
   "metadata": {},
   "outputs": [
    {
     "data": {
      "text/plain": [
       "array([1.60035057, 0.58676093, 1.49061224])"
      ]
     },
     "execution_count": 6,
     "metadata": {},
     "output_type": "execute_result"
    }
   ],
   "source": [
    "device = torch.device('cuda' if torch.cuda.is_available() else 'cpu')\n",
    "model.to(device)\n",
    "weights"
   ]
  },
  {
   "cell_type": "code",
   "execution_count": 31,
   "id": "0847c1d2-6cee-48d6-bb4d-41f9628184f8",
   "metadata": {},
   "outputs": [
    {
     "name": "stdout",
     "output_type": "stream",
     "text": [
      "tensor(1.1981, device='cuda:0', grad_fn=<NllLossBackward0>)\n"
     ]
    }
   ],
   "source": [
    "for step,batch in enumerate(train_dataloader):\n",
    "    batch = [r.to(device) for r in batch]\n",
    "    i,m,l = batch\n",
    "    output = model(i,attention_mask=m,labels=l)\n",
    "    loss_fn = nn.CrossEntropyLoss(weight=weight_tensor)\n",
    "    class_loss = loss_fn(output.logits,l)\n",
    "    print(output.loss)\n",
    "    break"
   ]
  },
  {
   "cell_type": "code",
   "execution_count": 32,
   "id": "1708c878-83ff-410b-9d3e-b07701f0580a",
   "metadata": {},
   "outputs": [
    {
     "data": {
      "text/plain": [
       "tensor(1.1470, device='cuda:0', grad_fn=<NllLossBackward0>)"
      ]
     },
     "execution_count": 32,
     "metadata": {},
     "output_type": "execute_result"
    }
   ],
   "source": [
    "class_loss"
   ]
  },
  {
   "cell_type": "code",
   "execution_count": 16,
   "id": "d6b49d64-5faa-4e66-a263-c94f623eed53",
   "metadata": {},
   "outputs": [],
   "source": [
    "from transformers import get_scheduler\n",
    "\n",
    "num_epochs = 3\n",
    "num_training_steps = num_epochs * len(train_dataloader)\n",
    "lr_scheduler = get_scheduler(\n",
    "                \"linear\",optimizer=optimizer,num_warmup_steps=0,\n",
    "                num_training_steps=num_training_steps\n",
    ")"
   ]
  },
  {
   "cell_type": "code",
   "execution_count": 17,
   "id": "57b4df5c-b934-45ee-96b8-70d96c050ace",
   "metadata": {},
   "outputs": [
    {
     "data": {
      "application/vnd.jupyter.widget-view+json": {
       "model_id": "dce93353b20d4c89a2da0cd316e6a1a2",
       "version_major": 2,
       "version_minor": 0
      },
      "text/plain": [
       "  0%|          | 0/3288 [00:00<?, ?it/s]"
      ]
     },
     "metadata": {},
     "output_type": "display_data"
    }
   ],
   "source": [
    "from tqdm.auto import tqdm\n",
    "\n",
    "progress_bar = tqdm(range(num_training_steps))\n",
    "model.train()\n",
    "for num_epoch in range(num_epochs):\n",
    "    for step, batch in enumerate(train_dataloader):\n",
    "        batch = [r.to(device) for r in batch]\n",
    "        ids,masks,labels = batch\n",
    "        outputs = model(input_ids=ids,attention_mask=masks,labels=labels)\n",
    "        loss_fn = nn.CrossEntropyLoss(weight=weight_tensor)\n",
    "        loss = loss_fn(outputs.logits,labels)\n",
    "        loss.backward()\n",
    "\n",
    "        optimizer.step()\n",
    "        lr_scheduler.step()\n",
    "        optimizer.zero_grad()\n",
    "        progress_bar.update(1)"
   ]
  },
  {
   "cell_type": "code",
   "execution_count": 20,
   "id": "2e7269e6-ee57-4a71-96d7-45587056bd3f",
   "metadata": {},
   "outputs": [
    {
     "data": {
      "text/plain": [
       "1    6224\n",
       "2    2450\n",
       "0    2282\n",
       "Name: label_1, dtype: int64"
      ]
     },
     "execution_count": 20,
     "metadata": {},
     "output_type": "execute_result"
    }
   ],
   "source": [
    "df_final['label_1'].value_counts()"
   ]
  },
  {
   "cell_type": "code",
   "execution_count": 45,
   "id": "fe67c7cc-8b45-45cc-89f0-5960dd3ccc91",
   "metadata": {},
   "outputs": [],
   "source": [
    "from datasets import load_metric\n",
    "predictions = []\n",
    "labels = []\n",
    "metric = load_metric('accuracy')\n",
    "model.eval()\n",
    "for step, batch in enumerate(validation_dataloader):\n",
    "    batch = [r.to(device) for r in batch]\n",
    "    ids,masks,label = batch\n",
    "    with torch.no_grad():\n",
    "        outputs = model(input_ids=ids,attention_mask=masks)\n",
    "    logits = outputs.logits\n",
    "    preds = torch.argmax(logits,dim=-1)\n",
    "    predictions.append(preds.cpu())\n",
    "    labels.append(label.cpu())\n",
    "    metric.add_batch(predictions=preds,references=label)"
   ]
  },
  {
   "cell_type": "code",
   "execution_count": 46,
   "id": "8374a2c5-f09a-4323-a0fe-8c26d95c7a8c",
   "metadata": {},
   "outputs": [
    {
     "data": {
      "text/plain": [
       "{'accuracy': 0.5278904665314401}"
      ]
     },
     "execution_count": 46,
     "metadata": {},
     "output_type": "execute_result"
    }
   ],
   "source": [
    "metric.compute()"
   ]
  },
  {
   "cell_type": "code",
   "execution_count": 26,
   "id": "87183ab0-155b-49ef-8633-cd7e00840c7a",
   "metadata": {},
   "outputs": [],
   "source": [
    "from sklearn.metrics import ConfusionMatrixDisplay, confusion_matrix"
   ]
  },
  {
   "cell_type": "code",
   "execution_count": 27,
   "id": "fdf90a41-4e9a-4d26-9960-218fa023249e",
   "metadata": {},
   "outputs": [],
   "source": [
    "list_preds = [int(pred) for prediction in predictions for pred in prediction]\n",
    "list_labels = [int(lbl) for label in labels for lbl in label]"
   ]
  },
  {
   "cell_type": "code",
   "execution_count": 28,
   "id": "a46ab666-c3c2-48f6-b993-0ebc8c14aa0d",
   "metadata": {},
   "outputs": [
    {
     "data": {
      "image/png": "[encoded data removed]",
      "text/plain": [
       "<Figure size 432x288 with 2 Axes>"
      ]
     },
     "metadata": {
      "needs_background": "light"
     },
     "output_type": "display_data"
    }
   ],
   "source": [
    "display_labels = [0,1,2]\n",
    "cm = confusion_matrix(list_labels,list_preds,labels=display_labels)\n",
    "disp = ConfusionMatrixDisplay(confusion_matrix=cm,\n",
    "                              display_labels=display_labels)\n",
    "disp = disp.plot()\n",
    "\n",
    "plt.show()"
   ]
  },
  {
   "cell_type": "code",
   "execution_count": 30,
   "id": "224245b5-3fb0-4426-aec6-fd0dedfa4d19",
   "metadata": {},
   "outputs": [],
   "source": [
    "torch.save(model.state_dict(), 'class_weights_balanced.pth')"
   ]
  },
  {
   "cell_type": "code",
   "execution_count": 37,
   "id": "2ed39ecc-7525-447c-b9a1-6024f30d43b2",
   "metadata": {},
   "outputs": [],
   "source": [
    "from datasets import list_metrics\n",
    "metrics_list = list_metrics()\n",
    "# metrics_list"
   ]
  },
  {
   "cell_type": "code",
   "execution_count": null,
   "id": "58a6f423-e22a-4807-b2c9-e52ae630b13a",
   "metadata": {},
   "outputs": [],
   "source": []
  }
 ],
 "metadata": {
  "kernelspec": {
   "display_name": "Python 3",
   "language": "python",
   "name": "python3"
  },
  "language_info": {
   "codemirror_mode": {
    "name": "ipython",
    "version": 3
   },
   "file_extension": ".py",
   "mimetype": "text/x-python",
   "name": "python",
   "nbconvert_exporter": "python",
   "pygments_lexer": "ipython3",
   "version": "3.6.9"
  }
 },
 "nbformat": 4,
 "nbformat_minor": 5
}
