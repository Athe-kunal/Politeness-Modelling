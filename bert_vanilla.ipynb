{
 "cells": [
  {
   "cell_type": "code",
   "execution_count": 3,
   "id": "890c5c3a-0cfe-4bd7-b6af-f84f4717dd92",
   "metadata": {},
   "outputs": [],
   "source": [
    "import torch\n",
    "from torch.utils.data import TensorDataset, DataLoader, RandomSampler, SequentialSampler\n",
    "from transformers import BertTokenizer,BertForSequenceClassification\n",
    "from sklearn.model_selection import train_test_split\n",
    "from transformers import RobertaTokenizer,RobertaForSequenceClassification\n",
    "from tqdm import tqdm, trange\n",
    "import pandas as pd\n",
    "import io\n",
    "import torch.nn as nn\n",
    "from transformers import AdamW\n",
    "from sklearn.model_selection import train_test_split\n",
    "import numpy as np\n",
    "import matplotlib.pyplot as plt\n",
    "import numpy as np\n",
    "\n",
    "df_stack = pd.read_csv('stack-exchange.annotated.csv')\n",
    "df_wiki = pd.read_csv('wikipedia.annotated.csv')\n",
    "\n",
    "columns = ['Request','Score1', 'Score2', 'Score3', 'Score4','Score5','Normalized Score']\n",
    "df_final = df_wiki.append(df_stack)\n",
    "df_final.drop(['Community','Id','TurkId1', 'TurkId2', 'TurkId3', 'TurkId4', 'TurkId5'],axis=1,inplace=True)\n",
    "def remove_url(request):\n",
    "    try:\n",
    "        request = request.replace('<url>','')\n",
    "        request = \"\".join([i for i in request if i not in string.punctuation])   \n",
    "        request = re.sub(r'^https?:\\/\\/.*[\\r\\n]*', '', request)\n",
    "        request = re.sub(r'^http.*[\\r\\n]*', '', request)\n",
    "        request = re.sub(\" \\d+\", \" \", request)\n",
    "    except:\n",
    "        pass\n",
    "    return request\n",
    "\n",
    "df_final.loc[:,'Request'] = df_final.Request.apply(lambda x: remove_url(x))\n",
    "\n",
    "#Randomly shuffle the data\n",
    "# df_final = df_final.sample(frac=1)\n",
    "conditions = [(df_final['Normalized Score']<-0.5),(-0.5<=df_final['Normalized Score']) & (df_final['Normalized Score']<=0.5), (df_final['Normalized Score']>0.5)]\n",
    "values = [0,1,2]\n",
    "df_final['label_1'] = np.select(conditions,values)\n",
    "\n",
    "sentences = df_final.Request.values\n",
    "labels = df_final.label_1.values\n",
    "\n",
    "tokenizer = BertTokenizer.from_pretrained('bert-base-uncased')\n",
    "\n",
    "train_inputs, val_inputs,train_labels,val_labels = train_test_split(sentences,labels, \n",
    "                                            random_state=42, test_size=0.1,stratify=labels)\n",
    "tokens_train = tokenizer(\n",
    "    train_inputs.tolist(),\n",
    "    padding = True , truncation=True,return_tensors='pt',\n",
    "    add_special_tokens=False\n",
    ")\n",
    "\n",
    "tokens_val = tokenizer(\n",
    "    val_inputs.tolist(),\n",
    "    padding=True, truncation=True,return_tensors='pt',\n",
    "    add_special_tokens=False\n",
    ")"
   ]
  },
  {
   "cell_type": "code",
   "execution_count": 4,
   "id": "491fb018-d7de-4671-9a33-9f4cb741c69f",
   "metadata": {},
   "outputs": [
    {
     "name": "stderr",
     "output_type": "stream",
     "text": [
      "Some weights of the model checkpoint at bert-base-uncased were not used when initializing BertForSequenceClassification: ['cls.predictions.bias', 'cls.predictions.transform.dense.bias', 'cls.seq_relationship.weight', 'cls.seq_relationship.bias', 'cls.predictions.decoder.weight', 'cls.predictions.transform.dense.weight', 'cls.predictions.transform.LayerNorm.weight', 'cls.predictions.transform.LayerNorm.bias']\n",
      "- This IS expected if you are initializing BertForSequenceClassification from the checkpoint of a model trained on another task or with another architecture (e.g. initializing a BertForSequenceClassification model from a BertForPreTraining model).\n",
      "- This IS NOT expected if you are initializing BertForSequenceClassification from the checkpoint of a model that you expect to be exactly identical (initializing a BertForSequenceClassification model from a BertForSequenceClassification model).\n",
      "Some weights of BertForSequenceClassification were not initialized from the model checkpoint at bert-base-uncased and are newly initialized: ['classifier.bias', 'classifier.weight']\n",
      "You should probably TRAIN this model on a down-stream task to be able to use it for predictions and inference.\n"
     ]
    }
   ],
   "source": [
    "model = BertForSequenceClassification.from_pretrained('bert-base-uncased',num_labels=3)"
   ]
  },
  {
   "cell_type": "code",
   "execution_count": 6,
   "id": "bc2e000c-c8e8-46bc-b945-2085b1dc5157",
   "metadata": {},
   "outputs": [],
   "source": [
    "batch_size = 8\n",
    "\n",
    "train_ids = tokens_train['input_ids']\n",
    "train_mask = tokens_train['attention_mask']\n",
    "train_y = torch.tensor(train_labels.tolist())\n",
    "\n",
    "val_ids = tokens_val['input_ids']\n",
    "val_mask = tokens_val['attention_mask']\n",
    "val_y = torch.tensor(val_labels.tolist())\n",
    "\n",
    "train_data = TensorDataset(train_ids, train_mask, train_y)\n",
    "train_sampler = RandomSampler(train_data)\n",
    "train_dataloader = DataLoader(train_data, sampler=train_sampler, batch_size=batch_size)\n",
    "\n",
    "validation_data = TensorDataset(val_ids, val_mask, val_y)\n",
    "validation_sampler = SequentialSampler(validation_data)\n",
    "validation_dataloader = DataLoader(validation_data, sampler=validation_sampler, batch_size=batch_size)"
   ]
  },
  {
   "cell_type": "code",
   "execution_count": 7,
   "id": "4ce9ae02-7212-4760-886a-abb66222e25d",
   "metadata": {},
   "outputs": [],
   "source": [
    "from transformers import AdamW\n",
    "from transformers import get_scheduler\n",
    "\n",
    "optimizer = AdamW(model.parameters(), lr=5e-5)\n",
    "\n",
    "num_epochs = 3\n",
    "num_training_steps = num_epochs * len(train_dataloader)\n",
    "lr_scheduler = get_scheduler(\n",
    "                \"linear\",optimizer=optimizer,num_warmup_steps=0,\n",
    "                num_training_steps=num_training_steps\n",
    ")\n"
   ]
  },
  {
   "cell_type": "code",
   "execution_count": 8,
   "id": "b81c9dfe-fa41-459b-9935-84db374ee65c",
   "metadata": {},
   "outputs": [
    {
     "name": "stdout",
     "output_type": "stream",
     "text": [
      " \n"
     ]
    }
   ],
   "source": [
    "device = torch.device('cuda' if torch.cuda.is_available() else 'cpu')\n",
    "model.to(device)\n",
    "print(\" \")"
   ]
  },
  {
   "cell_type": "code",
   "execution_count": 9,
   "id": "491b144c-1855-4b61-b003-075876a4d2ea",
   "metadata": {},
   "outputs": [
    {
     "data": {
      "application/vnd.jupyter.widget-view+json": {
       "model_id": "1a707f6c7d56405b8a52204cd65f5785",
       "version_major": 2,
       "version_minor": 0
      },
      "text/plain": [
       "  0%|          | 0/3699 [00:00<?, ?it/s]"
      ]
     },
     "metadata": {},
     "output_type": "display_data"
    }
   ],
   "source": [
    "from tqdm.auto import tqdm\n",
    "train_loss = []\n",
    "progress_bar = tqdm(range(num_training_steps))\n",
    "model.train()\n",
    "for num_epoch in range(num_epochs):\n",
    "    for step, batch in enumerate(train_dataloader):\n",
    "        batch = [r.to(device) for r in batch]\n",
    "        ids,masks,labels = batch\n",
    "        outputs = model(input_ids=ids,attention_mask=masks,labels=labels)\n",
    "        loss = outputs.loss\n",
    "        loss.backward()\n",
    "        train_loss.append(loss.item())\n",
    "        optimizer.step()\n",
    "        lr_scheduler.step()\n",
    "        optimizer.zero_grad()\n",
    "        progress_bar.update(1)"
   ]
  },
  {
   "cell_type": "code",
   "execution_count": 10,
   "id": "a83fe88a-661b-4196-b98a-f93e9d73fad8",
   "metadata": {},
   "outputs": [],
   "source": [
    "torch.save(model.state_dict(), 'bert_vanilla.pth')"
   ]
  },
  {
   "cell_type": "code",
   "execution_count": 11,
   "id": "9578737c-ddee-40cd-b4e7-978fef8e628a",
   "metadata": {},
   "outputs": [],
   "source": [
    "from datasets import load_metric\n",
    "predictions = []\n",
    "labels = []\n",
    "metric = load_metric('accuracy')\n",
    "model.eval()\n",
    "for step, batch in enumerate(validation_dataloader):\n",
    "    batch = [r.to(device) for r in batch]\n",
    "    ids,masks,label = batch\n",
    "    with torch.no_grad():\n",
    "        outputs = model(input_ids=ids,attention_mask=masks)\n",
    "    logits = outputs.logits\n",
    "    preds = torch.argmax(logits,dim=-1)\n",
    "    predictions.append(preds.cpu())\n",
    "    labels.append(label.cpu())\n",
    "    metric.add_batch(predictions=preds,references=label)"
   ]
  },
  {
   "cell_type": "code",
   "execution_count": 12,
   "id": "34ba8e20-1b10-40f8-b3f1-7bb61e8dc69a",
   "metadata": {},
   "outputs": [
    {
     "data": {
      "text/plain": [
       "{'accuracy': 0.5684306569343066}"
      ]
     },
     "execution_count": 12,
     "metadata": {},
     "output_type": "execute_result"
    }
   ],
   "source": [
    "metric.compute()"
   ]
  },
  {
   "cell_type": "code",
   "execution_count": 13,
   "id": "6c0afcfe-ab49-46cc-8425-44c5e423f1f0",
   "metadata": {},
   "outputs": [],
   "source": [
    "from sklearn.metrics import ConfusionMatrixDisplay\n",
    "from sklearn.metrics import confusion_matrix"
   ]
  },
  {
   "cell_type": "code",
   "execution_count": 14,
   "id": "d08ca2de-ed90-4ab7-99c7-3b8bf2594dc4",
   "metadata": {},
   "outputs": [],
   "source": [
    "list_preds = [int(pred) for prediction in predictions for pred in prediction]\n",
    "list_labels = [int(lbl) for label in labels for lbl in label]"
   ]
  },
  {
   "cell_type": "code",
   "execution_count": 15,
   "id": "e4a0842b-260e-447b-81e6-ee79f15bb725",
   "metadata": {},
   "outputs": [
    {
     "data": {
      "image/png": "[encoded data removed]",
      "text/plain": [
       "<Figure size 432x288 with 2 Axes>"
      ]
     },
     "metadata": {
      "needs_background": "light"
     },
     "output_type": "display_data"
    }
   ],
   "source": [
    "display_labels = [0,1,2]\n",
    "cm = confusion_matrix(list_labels,list_preds,labels=display_labels)\n",
    "disp = ConfusionMatrixDisplay(confusion_matrix=cm,\n",
    "                              display_labels=display_labels)\n",
    "disp = disp.plot()\n",
    "\n",
    "plt.show()"
   ]
  },
  {
   "cell_type": "code",
   "execution_count": null,
   "id": "33120754-2ea7-4f32-8785-2ba57a0a57ba",
   "metadata": {},
   "outputs": [],
   "source": []
  }
 ],
 "metadata": {
  "kernelspec": {
   "display_name": "astarag_env",
   "language": "python",
   "name": "astarag_env"
  },
  "language_info": {
   "codemirror_mode": {
    "name": "ipython",
    "version": 3
   },
   "file_extension": ".py",
   "mimetype": "text/x-python",
   "name": "python",
   "nbconvert_exporter": "python",
   "pygments_lexer": "ipython3",
   "version": "3.6.9"
  }
 },
 "nbformat": 4,
 "nbformat_minor": 5
}
